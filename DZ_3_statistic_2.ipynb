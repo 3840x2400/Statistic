{
 "cells": [
  {
   "cell_type": "code",
   "execution_count": 1,
   "id": "84a307d2",
   "metadata": {},
   "outputs": [],
   "source": [
    "import numpy as np"
   ]
  },
  {
   "cell_type": "code",
   "execution_count": 2,
   "id": "07ca6af0",
   "metadata": {},
   "outputs": [],
   "source": [
    "from math import factorial"
   ]
  },
  {
   "cell_type": "code",
   "execution_count": 3,
   "id": "3a888cba",
   "metadata": {},
   "outputs": [],
   "source": [
    "def combinations(n, k):\n",
    "    return int(factorial(n) / factorial(k) * factorial(n-k))"
   ]
  },
  {
   "cell_type": "code",
   "execution_count": 4,
   "id": "c8959682",
   "metadata": {},
   "outputs": [
    {
     "data": {
      "text/plain": [
       "5.368308939737511e-07"
      ]
     },
     "execution_count": 4,
     "metadata": {},
     "output_type": "execute_result"
    }
   ],
   "source": [
    "p1 = (combinations(5, 0)*combinations(3 ,2))/combinations(8, 2)*((combinations(5, 3)*combinations(7, 1))/combinations(12, 4))\n",
    "p1"
   ]
  },
  {
   "cell_type": "code",
   "execution_count": 5,
   "id": "cdaf2d98",
   "metadata": {},
   "outputs": [
    {
     "data": {
      "text/plain": [
       "3.220985363842507e-07"
      ]
     },
     "execution_count": 5,
     "metadata": {},
     "output_type": "execute_result"
    }
   ],
   "source": [
    "p2 = (combinations(5, 1)*combinations(3, 1))/combinations(8, 2) * (combinations(5, 2)*combinations(7, 2)/combinations(12, 4))\n",
    "p2 "
   ]
  },
  {
   "cell_type": "code",
   "execution_count": 6,
   "id": "667387f6",
   "metadata": {},
   "outputs": [
    {
     "data": {
      "text/plain": [
       "6.441970727685014e-08"
      ]
     },
     "execution_count": 6,
     "metadata": {},
     "output_type": "execute_result"
    }
   ],
   "source": [
    "p3 = ((combinations(5, 2)*combinations(3, 0))/combinations(8, 2)) * ((combinations(5, 1)*combinations(7, 3))/combinations(12, 4))\n",
    "p3"
   ]
  },
  {
   "cell_type": "code",
   "execution_count": 7,
   "id": "9a3786c4",
   "metadata": {},
   "outputs": [
    {
     "data": {
      "text/plain": [
       "9.23349137634852e-07"
      ]
     },
     "execution_count": 7,
     "metadata": {},
     "output_type": "execute_result"
    }
   ],
   "source": [
    "p = p1 + p2 + p3\n",
    "p"
   ]
  },
  {
   "cell_type": "code",
   "execution_count": null,
   "id": "0bc3b503",
   "metadata": {},
   "outputs": [],
   "source": [
    "Все проверил на 20 раз. Цифры получаются другие..... не пойму почему? Посмотрите, мож Вы ошибку увидете...."
   ]
  },
  {
   "cell_type": "code",
   "execution_count": null,
   "id": "54ee1d86",
   "metadata": {},
   "outputs": [],
   "source": []
  },
  {
   "cell_type": "code",
   "execution_count": null,
   "id": "9163f89a",
   "metadata": {},
   "outputs": [],
   "source": []
  },
  {
   "cell_type": "code",
   "execution_count": null,
   "id": "fba753e1",
   "metadata": {},
   "outputs": [],
   "source": []
  },
  {
   "cell_type": "code",
   "execution_count": null,
   "id": "b99614bc",
   "metadata": {},
   "outputs": [],
   "source": []
  }
 ],
 "metadata": {
  "kernelspec": {
   "display_name": "Python 3",
   "language": "python",
   "name": "python3"
  },
  "language_info": {
   "codemirror_mode": {
    "name": "ipython",
    "version": 3
   },
   "file_extension": ".py",
   "mimetype": "text/x-python",
   "name": "python",
   "nbconvert_exporter": "python",
   "pygments_lexer": "ipython3",
   "version": "3.8.8"
  }
 },
 "nbformat": 4,
 "nbformat_minor": 5
}
