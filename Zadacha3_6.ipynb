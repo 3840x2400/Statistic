{
 "cells": [
  {
   "cell_type": "code",
   "execution_count": 1,
   "id": "50a349d7",
   "metadata": {},
   "outputs": [],
   "source": [
    "#рост футболистов распределен нормально\n",
    "#дисперсия генеральной совокупности 25 кв см\n",
    "#объём выборки 27\n",
    "#среднее выборочное составляет 174,2\n",
    "#Найдите доверительный интервал для математического ожидания с надёжностью 95%....\n",
    "import numpy as np\n",
    "import pylab\n",
    "import scipy.stats as stats\n",
    "import pandas as pd"
   ]
  },
  {
   "cell_type": "code",
   "execution_count": 2,
   "id": "b4f1cfa2",
   "metadata": {},
   "outputs": [],
   "source": [
    "std=5"
   ]
  },
  {
   "cell_type": "code",
   "execution_count": 3,
   "id": "24c69a4e",
   "metadata": {},
   "outputs": [],
   "source": [
    "n=27"
   ]
  },
  {
   "cell_type": "code",
   "execution_count": 4,
   "id": "f8a1ad2d",
   "metadata": {},
   "outputs": [],
   "source": [
    "mu=174.2"
   ]
  },
  {
   "cell_type": "code",
   "execution_count": 5,
   "id": "53f58187",
   "metadata": {},
   "outputs": [
    {
     "data": {
      "text/plain": [
       "0.025"
      ]
     },
     "execution_count": 5,
     "metadata": {},
     "output_type": "execute_result"
    }
   ],
   "source": [
    "alphaover2=0.05/2\n",
    "alphaover2"
   ]
  },
  {
   "cell_type": "code",
   "execution_count": 6,
   "id": "bb69c0be",
   "metadata": {},
   "outputs": [],
   "source": [
    "z_t=1.96                  "
   ]
  },
  {
   "cell_type": "code",
   "execution_count": 7,
   "id": "a7d469a9",
   "metadata": {},
   "outputs": [
    {
     "data": {
      "text/plain": [
       "172.31398912064722"
      ]
     },
     "execution_count": 7,
     "metadata": {},
     "output_type": "execute_result"
    }
   ],
   "source": [
    "mu-(z_t*std/(27)**0.5)"
   ]
  },
  {
   "cell_type": "code",
   "execution_count": 8,
   "id": "b670b827",
   "metadata": {},
   "outputs": [
    {
     "data": {
      "text/plain": [
       "176.08601087935276"
      ]
     },
     "execution_count": 8,
     "metadata": {},
     "output_type": "execute_result"
    }
   ],
   "source": [
    "mu+(z_t*std/(27)**0.5)"
   ]
  },
  {
   "cell_type": "code",
   "execution_count": null,
   "id": "88b42cd4",
   "metadata": {},
   "outputs": [],
   "source": [
    "#доверительный интервал с надёжностью 95% выглядит как:172,3 до 176,0 см."
   ]
  },
  {
   "cell_type": "code",
   "execution_count": null,
   "id": "ede81bf5",
   "metadata": {},
   "outputs": [],
   "source": []
  }
 ],
 "metadata": {
  "kernelspec": {
   "display_name": "Python 3",
   "language": "python",
   "name": "python3"
  },
  "language_info": {
   "codemirror_mode": {
    "name": "ipython",
    "version": 3
   },
   "file_extension": ".py",
   "mimetype": "text/x-python",
   "name": "python",
   "nbconvert_exporter": "python",
   "pygments_lexer": "ipython3",
   "version": "3.8.8"
  }
 },
 "nbformat": 4,
 "nbformat_minor": 5
}
