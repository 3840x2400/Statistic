{
 "cells": [
  {
   "cell_type": "code",
   "execution_count": 1,
   "id": "ae1f8371",
   "metadata": {},
   "outputs": [],
   "source": [
    "import numpy as np"
   ]
  },
  {
   "cell_type": "code",
   "execution_count": 2,
   "id": "a20a4bc9",
   "metadata": {},
   "outputs": [],
   "source": [
    "from math import factorial"
   ]
  },
  {
   "cell_type": "code",
   "execution_count": 3,
   "id": "d7a7523f",
   "metadata": {},
   "outputs": [],
   "source": [
    "pA = 0.8"
   ]
  },
  {
   "cell_type": "code",
   "execution_count": 4,
   "id": "20098546",
   "metadata": {},
   "outputs": [],
   "source": [
    "pB = 0.7"
   ]
  },
  {
   "cell_type": "code",
   "execution_count": 5,
   "id": "16158059",
   "metadata": {},
   "outputs": [],
   "source": [
    "pC = 0.9"
   ]
  },
  {
   "cell_type": "code",
   "execution_count": 6,
   "id": "31b4f6f9",
   "metadata": {},
   "outputs": [],
   "source": [
    "# вероятность нахождения студента на том или ином факультете хА + xB + 2*xC = 1"
   ]
  },
  {
   "cell_type": "code",
   "execution_count": 7,
   "id": "338f6379",
   "metadata": {},
   "outputs": [],
   "source": [
    "x = 1/4 # вероятность, что студент окажется с факультета А или В"
   ]
  },
  {
   "cell_type": "code",
   "execution_count": 8,
   "id": "5de9e9bf",
   "metadata": {},
   "outputs": [
    {
     "data": {
      "text/plain": [
       "0.5"
      ]
     },
     "execution_count": 8,
     "metadata": {},
     "output_type": "execute_result"
    }
   ],
   "source": [
    "1/4*2 # вероятность, что студент окажется с факультета С"
   ]
  },
  {
   "cell_type": "code",
   "execution_count": 9,
   "id": "65020585",
   "metadata": {},
   "outputs": [
    {
     "data": {
      "text/plain": [
       "0.825"
      ]
     },
     "execution_count": 9,
     "metadata": {},
     "output_type": "execute_result"
    }
   ],
   "source": [
    "P = 1/4*0.8 + 1/4*0.7 + 1/2*0.9\n",
    "P"
   ]
  },
  {
   "cell_type": "code",
   "execution_count": 10,
   "id": "d32be3e4",
   "metadata": {},
   "outputs": [
    {
     "data": {
      "text/plain": [
       "0.24242424242424246"
      ]
     },
     "execution_count": 10,
     "metadata": {},
     "output_type": "execute_result"
    }
   ],
   "source": [
    "A = 1/4*0.8/P\n",
    "A"
   ]
  },
  {
   "cell_type": "code",
   "execution_count": 11,
   "id": "e0cbc1bb",
   "metadata": {},
   "outputs": [
    {
     "data": {
      "text/plain": [
       "0.21212121212121213"
      ]
     },
     "execution_count": 11,
     "metadata": {},
     "output_type": "execute_result"
    }
   ],
   "source": [
    "B = 1/4*0.7/P\n",
    "B"
   ]
  },
  {
   "cell_type": "code",
   "execution_count": 12,
   "id": "eb090bd9",
   "metadata": {},
   "outputs": [
    {
     "data": {
      "text/plain": [
       "0.5454545454545455"
      ]
     },
     "execution_count": 12,
     "metadata": {},
     "output_type": "execute_result"
    }
   ],
   "source": [
    "C = 1/2*0.9/P\n",
    "C"
   ]
  },
  {
   "cell_type": "code",
   "execution_count": 13,
   "id": "a0829c38",
   "metadata": {},
   "outputs": [
    {
     "data": {
      "text/plain": [
       "1.0"
      ]
     },
     "execution_count": 13,
     "metadata": {},
     "output_type": "execute_result"
    }
   ],
   "source": [
    "A+B+C"
   ]
  },
  {
   "cell_type": "code",
   "execution_count": null,
   "id": "090b4213",
   "metadata": {},
   "outputs": [],
   "source": []
  },
  {
   "cell_type": "code",
   "execution_count": null,
   "id": "04f2a05a",
   "metadata": {},
   "outputs": [],
   "source": []
  },
  {
   "cell_type": "code",
   "execution_count": null,
   "id": "68f9a5b3",
   "metadata": {},
   "outputs": [],
   "source": []
  }
 ],
 "metadata": {
  "kernelspec": {
   "display_name": "Python 3",
   "language": "python",
   "name": "python3"
  },
  "language_info": {
   "codemirror_mode": {
    "name": "ipython",
    "version": 3
   },
   "file_extension": ".py",
   "mimetype": "text/x-python",
   "name": "python",
   "nbconvert_exporter": "python",
   "pygments_lexer": "ipython3",
   "version": "3.8.8"
  }
 },
 "nbformat": 4,
 "nbformat_minor": 5
}
