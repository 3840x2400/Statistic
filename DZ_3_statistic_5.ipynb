{
 "cells": [
  {
   "cell_type": "code",
   "execution_count": 1,
   "id": "eaeaf90a",
   "metadata": {},
   "outputs": [],
   "source": [
    "# все детали выйдут из строя"
   ]
  },
  {
   "cell_type": "code",
   "execution_count": 2,
   "id": "fa34970d",
   "metadata": {},
   "outputs": [],
   "source": [
    "import numpy as np"
   ]
  },
  {
   "cell_type": "code",
   "execution_count": 3,
   "id": "99fcc220",
   "metadata": {},
   "outputs": [],
   "source": [
    "from math import factorial"
   ]
  },
  {
   "cell_type": "code",
   "execution_count": 4,
   "id": "18fd340e",
   "metadata": {},
   "outputs": [
    {
     "data": {
      "text/plain": [
       "0.005000000000000001"
      ]
     },
     "execution_count": 4,
     "metadata": {},
     "output_type": "execute_result"
    }
   ],
   "source": [
    "0.1*0.2*0.25"
   ]
  },
  {
   "cell_type": "code",
   "execution_count": 5,
   "id": "035333c5",
   "metadata": {},
   "outputs": [],
   "source": [
    "#- детали выйдут из строя"
   ]
  },
  {
   "cell_type": "code",
   "execution_count": 6,
   "id": "955111de",
   "metadata": {},
   "outputs": [
    {
     "data": {
      "text/plain": [
       "0.08"
      ]
     },
     "execution_count": 6,
     "metadata": {},
     "output_type": "execute_result"
    }
   ],
   "source": [
    "0.9*0.2*0.25 + 0.8*0.1*0.25 + 0.75*0.1*0.2"
   ]
  },
  {
   "cell_type": "code",
   "execution_count": 7,
   "id": "4dd8a53a",
   "metadata": {},
   "outputs": [],
   "source": [
    "#хотя бы одна деталь"
   ]
  },
  {
   "cell_type": "code",
   "execution_count": 8,
   "id": "6dc4adc6",
   "metadata": {},
   "outputs": [
    {
     "data": {
      "text/plain": [
       "0.45999999999999996"
      ]
     },
     "execution_count": 8,
     "metadata": {},
     "output_type": "execute_result"
    }
   ],
   "source": [
    "1 - 0.9*0.8*0.75"
   ]
  },
  {
   "cell_type": "code",
   "execution_count": 9,
   "id": "a58864bb",
   "metadata": {},
   "outputs": [],
   "source": [
    "#от одной до двух деталей выйдут из строя?"
   ]
  },
  {
   "cell_type": "code",
   "execution_count": 10,
   "id": "4ba813ef",
   "metadata": {},
   "outputs": [
    {
     "data": {
      "text/plain": [
       "0.45499999999999996"
      ]
     },
     "execution_count": 10,
     "metadata": {},
     "output_type": "execute_result"
    }
   ],
   "source": [
    "1 - 0.9*0.8*0.75 - 0.1*0.2*0.25"
   ]
  },
  {
   "cell_type": "code",
   "execution_count": null,
   "id": "77e386a6",
   "metadata": {},
   "outputs": [],
   "source": []
  },
  {
   "cell_type": "code",
   "execution_count": null,
   "id": "32b78deb",
   "metadata": {},
   "outputs": [],
   "source": []
  },
  {
   "cell_type": "code",
   "execution_count": null,
   "id": "58180202",
   "metadata": {},
   "outputs": [],
   "source": []
  },
  {
   "cell_type": "code",
   "execution_count": null,
   "id": "9aca1ce9",
   "metadata": {},
   "outputs": [],
   "source": []
  },
  {
   "cell_type": "code",
   "execution_count": null,
   "id": "2a943dfb",
   "metadata": {},
   "outputs": [],
   "source": []
  },
  {
   "cell_type": "code",
   "execution_count": null,
   "id": "9dd9e7bb",
   "metadata": {},
   "outputs": [],
   "source": []
  }
 ],
 "metadata": {
  "kernelspec": {
   "display_name": "Python 3",
   "language": "python",
   "name": "python3"
  },
  "language_info": {
   "codemirror_mode": {
    "name": "ipython",
    "version": 3
   },
   "file_extension": ".py",
   "mimetype": "text/x-python",
   "name": "python",
   "nbconvert_exporter": "python",
   "pygments_lexer": "ipython3",
   "version": "3.8.8"
  }
 },
 "nbformat": 4,
 "nbformat_minor": 5
}
