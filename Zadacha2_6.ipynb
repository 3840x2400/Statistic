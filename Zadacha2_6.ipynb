{
 "cells": [
  {
   "cell_type": "code",
   "execution_count": 1,
   "id": "78548bdd",
   "metadata": {},
   "outputs": [],
   "source": [
    "##Измерены значения IQ выборки студентов,\n",
    "##IQ = 131, 125, 115, 122, 131, 115, 107, 99, 125, 111\n",
    "##IQ распределен нормально\n",
    "##Найти доверительный интервал с надёжностью 0,95?\n",
    "import numpy as np"
   ]
  },
  {
   "cell_type": "code",
   "execution_count": 2,
   "id": "63fdfebb",
   "metadata": {},
   "outputs": [
    {
     "data": {
      "text/plain": [
       "array([131, 125, 115, 122, 131, 115, 107,  99, 125, 111])"
      ]
     },
     "execution_count": 2,
     "metadata": {},
     "output_type": "execute_result"
    }
   ],
   "source": [
    "IQ = np.array([131, 125, 115, 122, 131, 115, 107, 99, 125, 111])\n",
    "IQ"
   ]
  },
  {
   "cell_type": "code",
   "execution_count": 3,
   "id": "28f52d41",
   "metadata": {},
   "outputs": [
    {
     "data": {
      "text/plain": [
       "118.1"
      ]
     },
     "execution_count": 3,
     "metadata": {},
     "output_type": "execute_result"
    }
   ],
   "source": [
    "IQ.mean()"
   ]
  },
  {
   "cell_type": "code",
   "execution_count": 4,
   "id": "46a3153a",
   "metadata": {},
   "outputs": [
    {
     "data": {
      "text/plain": [
       "0.025"
      ]
     },
     "execution_count": 4,
     "metadata": {},
     "output_type": "execute_result"
    }
   ],
   "source": [
    "alphaover2=0.05/2\n",
    "alphaover2"
   ]
  },
  {
   "cell_type": "code",
   "execution_count": 5,
   "id": "a22ad32b",
   "metadata": {},
   "outputs": [
    {
     "data": {
      "text/plain": [
       "9"
      ]
     },
     "execution_count": 5,
     "metadata": {},
     "output_type": "execute_result"
    }
   ],
   "source": [
    "df = len(IQ)- 1\n",
    "df"
   ]
  },
  {
   "cell_type": "code",
   "execution_count": 6,
   "id": "a498fef7",
   "metadata": {},
   "outputs": [],
   "source": [
    "t = 2.262"
   ]
  },
  {
   "cell_type": "code",
   "execution_count": 7,
   "id": "7d3c74ed",
   "metadata": {},
   "outputs": [
    {
     "data": {
      "text/plain": [
       "110.55660776308164"
      ]
     },
     "execution_count": 7,
     "metadata": {},
     "output_type": "execute_result"
    }
   ],
   "source": [
    "IQ.mean()-(t*(IQ.std(ddof=1))/((10)**0.5))"
   ]
  },
  {
   "cell_type": "code",
   "execution_count": 8,
   "id": "325afe44",
   "metadata": {},
   "outputs": [
    {
     "data": {
      "text/plain": [
       "125.64339223691834"
      ]
     },
     "execution_count": 8,
     "metadata": {},
     "output_type": "execute_result"
    }
   ],
   "source": [
    "IQ.mean()+(t*(IQ.std(ddof=1))/((10)**0.5))"
   ]
  },
  {
   "cell_type": "code",
   "execution_count": null,
   "id": "b9cbcd08",
   "metadata": {},
   "outputs": [],
   "source": [
    "##интервал математического ожиданищя с надёжностью 95% составил от 110,6 до 125,6 единиц."
   ]
  },
  {
   "cell_type": "code",
   "execution_count": null,
   "id": "c6ff6fc2",
   "metadata": {},
   "outputs": [],
   "source": []
  },
  {
   "cell_type": "code",
   "execution_count": null,
   "id": "8fda2910",
   "metadata": {},
   "outputs": [],
   "source": []
  }
 ],
 "metadata": {
  "kernelspec": {
   "display_name": "Python 3",
   "language": "python",
   "name": "python3"
  },
  "language_info": {
   "codemirror_mode": {
    "name": "ipython",
    "version": 3
   },
   "file_extension": ".py",
   "mimetype": "text/x-python",
   "name": "python",
   "nbconvert_exporter": "python",
   "pygments_lexer": "ipython3",
   "version": "3.8.8"
  }
 },
 "nbformat": 4,
 "nbformat_minor": 5
}
