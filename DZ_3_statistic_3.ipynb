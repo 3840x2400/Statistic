{
 "cells": [
  {
   "cell_type": "code",
   "execution_count": 1,
   "id": "37fd9a31",
   "metadata": {},
   "outputs": [],
   "source": [
    "import numpy as np"
   ]
  },
  {
   "cell_type": "code",
   "execution_count": 2,
   "id": "eb5cefab",
   "metadata": {},
   "outputs": [],
   "source": [
    "from math import factorial"
   ]
  },
  {
   "cell_type": "code",
   "execution_count": 3,
   "id": "269696c5",
   "metadata": {},
   "outputs": [],
   "source": [
    "p1 = 0.9"
   ]
  },
  {
   "cell_type": "code",
   "execution_count": 4,
   "id": "250d933e",
   "metadata": {},
   "outputs": [],
   "source": [
    "p2 = 0.8"
   ]
  },
  {
   "cell_type": "code",
   "execution_count": 5,
   "id": "f6687c70",
   "metadata": {},
   "outputs": [],
   "source": [
    "p3 = 0.6                                       "
   ]
  },
  {
   "cell_type": "code",
   "execution_count": 6,
   "id": "3cbad600",
   "metadata": {},
   "outputs": [
    {
     "data": {
      "text/plain": [
       "0.7666666666666666"
      ]
     },
     "execution_count": 6,
     "metadata": {},
     "output_type": "execute_result"
    }
   ],
   "source": [
    "pA = 1/3 * 0.9 + 1/3 * 0.8 + 1/3 * 0.6\n",
    "pA"
   ]
  },
  {
   "cell_type": "code",
   "execution_count": 7,
   "id": "a8771690",
   "metadata": {},
   "outputs": [
    {
     "data": {
      "text/plain": [
       "0.39113428943937417"
      ]
     },
     "execution_count": 7,
     "metadata": {},
     "output_type": "execute_result"
    }
   ],
   "source": [
    "p1 = 1/3 * 0.9/0.767\n",
    "p1"
   ]
  },
  {
   "cell_type": "code",
   "execution_count": 8,
   "id": "9e17a4e3",
   "metadata": {},
   "outputs": [
    {
     "data": {
      "text/plain": [
       "0.3476749239461104"
      ]
     },
     "execution_count": 8,
     "metadata": {},
     "output_type": "execute_result"
    }
   ],
   "source": [
    "p2 = 1/3 * 0.8/0.767\n",
    "p2"
   ]
  },
  {
   "cell_type": "code",
   "execution_count": 9,
   "id": "2e55b842",
   "metadata": {},
   "outputs": [
    {
     "data": {
      "text/plain": [
       "0.26075619295958274"
      ]
     },
     "execution_count": 9,
     "metadata": {},
     "output_type": "execute_result"
    }
   ],
   "source": [
    "p3 = 1/3 * 0.6/0.767\n",
    "p3"
   ]
  },
  {
   "cell_type": "code",
   "execution_count": 10,
   "id": "4bb86a9a",
   "metadata": {},
   "outputs": [
    {
     "data": {
      "text/plain": [
       "0.9995654063450673"
      ]
     },
     "execution_count": 10,
     "metadata": {},
     "output_type": "execute_result"
    }
   ],
   "source": [
    "p1 + p2 + p3"
   ]
  },
  {
   "cell_type": "code",
   "execution_count": null,
   "id": "5765973e",
   "metadata": {},
   "outputs": [],
   "source": [
    "#P(B|A) = P(B) * P(A|B)/P(A)"
   ]
  },
  {
   "cell_type": "code",
   "execution_count": null,
   "id": "1b200424",
   "metadata": {},
   "outputs": [],
   "source": []
  },
  {
   "cell_type": "code",
   "execution_count": null,
   "id": "913930fc",
   "metadata": {},
   "outputs": [],
   "source": []
  },
  {
   "cell_type": "code",
   "execution_count": null,
   "id": "2cd5564c",
   "metadata": {},
   "outputs": [],
   "source": []
  },
  {
   "cell_type": "code",
   "execution_count": null,
   "id": "87fa4ab9",
   "metadata": {},
   "outputs": [],
   "source": []
  },
  {
   "cell_type": "code",
   "execution_count": null,
   "id": "cb36bc03",
   "metadata": {},
   "outputs": [],
   "source": []
  }
 ],
 "metadata": {
  "kernelspec": {
   "display_name": "Python 3",
   "language": "python",
   "name": "python3"
  },
  "language_info": {
   "codemirror_mode": {
    "name": "ipython",
    "version": 3
   },
   "file_extension": ".py",
   "mimetype": "text/x-python",
   "name": "python",
   "nbconvert_exporter": "python",
   "pygments_lexer": "ipython3",
   "version": "3.8.8"
  }
 },
 "nbformat": 4,
 "nbformat_minor": 5
}
